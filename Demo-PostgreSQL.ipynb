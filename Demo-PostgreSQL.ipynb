{
    "cells": [
        {
            "attachments": {},
            "cell_type": "markdown",
            "metadata": {
                "azdata_cell_guid": "d3dfef4e-ec77-4d85-a7ad-6a78620ef225"
            },
            "source": [
                "# Introduction\n",
                "Series of sample SQL scripts demonstrating common tasks with PostgreSQL database."
            ]
        },
        {
            "attachments": {},
            "cell_type": "markdown",
            "metadata": {
                "azdata_cell_guid": "84b7b372-24f3-4718-9dba-fa0e52ae5fc0"
            },
            "source": [
                "# Demo: Local Environment Setup\n",
                "\n",
                "1. [Install PostgreSQL](https://www.postgresql.org/download/)\n",
                "2. Start PostgreSQL server locally\n",
                "3. Create a new database (replace \"username\" with the username you used when installing PostgreSQL): `createdb -h localhost -p 5432 -U username animal_adoption`\n",
                "4. Connect to the database server: `psql -U username`\n",
                "5. Display a list of databases to verify that your database was created: `\\l`\n",
                "6. Connect to the database using your preferred IDE"
            ]
        },
        {
            "cell_type": "markdown",
            "metadata": {
                "azdata_cell_guid": "1aca12e5-9975-4f2f-8cf7-c11d6f33b4d5"
            },
            "source": [
                "# Demo: Create & Update Schema"
            ]
        },
        {
            "cell_type": "code",
            "execution_count": null,
            "metadata": {
                "azdata_cell_guid": "915391ae-e81f-4dc3-9263-3b43a4c4b6e0"
            },
            "outputs": [],
            "source": [
                "DROP TABLE IF EXISTS organizations CASCADE;\n",
                "\n",
                "CREATE TABLE organizations (\n",
                "    org_id bigserial,\n",
                "    name varchar(100),\n",
                "    CONSTRAINT org_id PRIMARY KEY (org_id)\n",
                ");\n",
                "\n",
                "\n",
                "DROP TABLE IF EXISTS owners CASCADE;\n",
                "\n",
                "CREATE TABLE owners (\n",
                "    owner_id bigserial,\n",
                "    first_name varchar(100),\n",
                "    last_name varchar(100),\n",
                "    email varchar(100),\n",
                "    phone varchar(15),\n",
                "    mailing_street varchar(100),\n",
                "    mailing_city varchar(100),\n",
                "    mailing_state varchar(30),\n",
                "    mailing_postal_code varchar(5),\n",
                "    CONSTRAINT owner_id PRIMARY KEY (owner_id)\n",
                ");"
            ]
        },
        {
            "cell_type": "code",
            "execution_count": null,
            "metadata": {
                "azdata_cell_guid": "82f92d99-8db0-49f0-a85c-a3d1e1679156",
                "tags": []
            },
            "outputs": [],
            "source": [
                "DROP TABLE IF EXISTS animals CASCADE;\n",
                "\n",
                "CREATE TABLE animals (\n",
                "    animal_id bigserial,\n",
                "    animal_name varchar(100),\n",
                "    animal_type varchar(100),\n",
                "    gender varchar(10),\n",
                "    birthdate date,\n",
                "    shelter integer REFERENCES organizations (org_id),\n",
                "    owner_id integer REFERENCES owners (owner_id),\n",
                "    CONSTRAINT animal_key PRIMARY KEY (animal_id)\n",
                ");\n",
                "\n",
                "\n",
                "DROP TABLE IF EXISTS animal_notes;\n",
                "\n",
                "CREATE TABLE animal_notes (\n",
                "    animal_note_id bigserial,\n",
                "    animal_note_summary varchar(100),\n",
                "    animal_note_detail text,\n",
                "    animal_note_date date,\n",
                "    animal integer REFERENCES animals (animal_id),\n",
                "    CONSTRAINT animal_note_key PRIMARY KEY (animal_note_id)\n",
                ");"
            ]
        },
        {
            "attachments": {},
            "cell_type": "markdown",
            "metadata": {
                "azdata_cell_guid": "90d6a66c-6b0e-4280-a515-47d0a8a10139"
            },
            "source": [
                "# Demo: Database Operations\n",
                "\n",
                "Run the following script to insert demo data into the database."
            ]
        },
        {
            "cell_type": "code",
            "execution_count": null,
            "metadata": {
                "azdata_cell_guid": "51303558-2d1b-4f1d-b0f6-2ebcef6f9da0"
            },
            "outputs": [],
            "source": [
                "INSERT INTO organizations (org_id, name)\n",
                "VALUES (1,'Ochoa, Dalton and Mason Shelter'),\n",
                "       (2,'Cooper, Rivera and Ware Shelter'),\n",
                "       (3,'Long-Galvan Shelter'),\n",
                "       (4,'Hensley, Roberson and Dillon Shelter');\n",
                "\n",
                "INSERT INTO owners (owner_id, first_name, last_name, email, phone, mailing_street, mailing_city, mailing_state, mailing_postal_code)\n",
                "VALUES (1,'Jared','Doyle','JaredDoyle0@example.net','270.007.2210','460 Mckinney Walks','Bethanyville','Virginia','34633'),\n",
                "       (2,'Robyn','Petty','R+Petty1968@example.com','(923)413-6664','69300 Carlos Circle','South Alexandra','Arizona','31507'),\n",
                "       (3,'Marco','Calderon','MCalderon1987@example.com','+1-948-654-9430','032 Booker Keys','Port Jermaine','Colorado','86834'),\n",
                "       (4,'Danny','Benton','Da.Benton1945@example.com','305-255-3097','728 Veronica Crossing Apt. 846','Port Deniseview','Utah','24043');\n",
                "\n",
                "INSERT INTO animals (animal_id, animal_name, animal_type, gender, birthdate, shelter, owner_id)\n",
                "VALUES (1,'Tamara','Dog','Male','1967-07-18','1',NULL),\n",
                "       (2,'Julie','Dog','Female','1911-04-21','2',NULL),\n",
                "       (3,'Kathryn','Dog','Female','1937-10-28','3','3'),\n",
                "       (4,'Gregory','Dog','Female','1921-01-25','4','4');\n",
                "\n",
                "INSERT INTO animal_notes (animal_note_id, animal_note_summary, animal_note_detail, animal_note_date, animal)\n",
                "VALUES (1,'Must human role find history. Current election west.','Floor administration deep south nation six apply determine. Pretty marriage federal hit. Exist fast next.','2021-11-03','1'),\n",
                "       (2,'Cost plan trip civil lawyer heavy. Machine hard statement.','South particular important pay plant rich. Enter side success. Of skin even experience. Pay shoulder develop Democrat among account senior prove.','2021-11-03','1'),\n",
                "       (3,'Ready many big often threat central continue.','Avoid push account against. Somebody rate professor yourself police night firm. Fine hope office bill any. City increase hair begin available eight.','2021-11-05','2'),\n",
                "       (4,'Station mention according affect he.','Front establish as glass imagine allow. Down own commercial. And past sound will. Boy edge source claim record leave. Work common simply each student.','2021-11-06','2'),\n",
                "       (5,'Hair perform beyond glass outside what.','Forward training under wonder western institution doctor. Wife fight PM officer. Space son four try window suffer. Oil item time store family. Film run family you personal.','2021-11-04','3'),\n",
                "       (6,'Painting such college break during who throughout.','Actually administration seven case wear child. True student relate personal instead theory. Next game accept lose instead keep. Building bad environment senior good. Evidence thing wrong guy win. Ability coach student significant four generation include.','2021-11-06','3'),\n",
                "       (7,'Wear culture single. No treatment fine oil science song.','Despite foreign benefit teach professor reduce. Note against discuss yard. Kid campaign return poor sport relationship. Indicate positive talk main everybody sense.','2021-11-04','4'),\n",
                "       (8,'Visit low green several while shake season.','Course yeah of low reality wear perform. Enjoy technology point real. Significant nothing moment finally trouble office bring test.','2021-11-06','4');"
            ]
        },
        {
            "attachments": {},
            "cell_type": "markdown",
            "metadata": {
                "azdata_cell_guid": "5bfeb7f9-d2d4-4672-9e42-87e853dd147a"
            },
            "source": [
                "Check that the data was created as expected."
            ]
        },
        {
            "cell_type": "code",
            "execution_count": null,
            "metadata": {
                "azdata_cell_guid": "9f4ff61c-39f6-43d5-a085-d97edb9ebb01"
            },
            "outputs": [],
            "source": [
                "SELECT * FROM public.owners;\n",
                "SELECT * FROM public.animals;"
            ]
        },
        {
            "attachments": {},
            "cell_type": "markdown",
            "metadata": {
                "azdata_cell_guid": "376f6f5f-fca6-4a41-a00c-b82d3ba90a0b"
            },
            "source": [
                "# Demo: Queries\n",
                "\n",
                "Types of Joins\n",
                "\n",
                "## Inner Join\n",
                "\n",
                "Returns a row for each value that exists in both tables. Which animals have been matched with an owner?\n",
                "\n",
                "<img src=\"assets/inner-join.png\" alt=\"inner join\" width=\"200\"/>"
            ]
        },
        {
            "cell_type": "code",
            "execution_count": null,
            "metadata": {
                "azdata_cell_guid": "15653d07-56a7-4e08-bd96-e98df7244215"
            },
            "outputs": [],
            "source": [
                "SELECT animal_id, animal_name, animal_type, owners.owner_id, first_name FROM animals INNER JOIN owners ON animals.owner_id = owners.owner_id;"
            ]
        },
        {
            "attachments": {},
            "cell_type": "markdown",
            "metadata": {
                "azdata_cell_guid": "349880f5-6bd2-4b2a-b875-e2c5980a7d0a"
            },
            "source": [
                "## Left Join\n",
                "\n",
                "Returns all matching rows in left table along with columns from joined table if available. List all animals with their owner if they have one.\n",
                "\n",
                "<img src=\"assets/left-join.png\" alt=\"left join\" width=\"200\"/>"
            ]
        },
        {
            "cell_type": "code",
            "execution_count": null,
            "metadata": {
                "azdata_cell_guid": "63d9917f-b6c0-49f0-bb21-775e21d5f9ad"
            },
            "outputs": [],
            "source": [
                "SELECT animal_id, animal_name, animal_type, owners.owner_id, first_name FROM animals LEFT JOIN owners ON animals.owner_id = owners.owner_id"
            ]
        },
        {
            "attachments": {},
            "cell_type": "markdown",
            "metadata": {
                "azdata_cell_guid": "cd01e85d-2580-4ae5-ac3f-46e4f2b42def"
            },
            "source": [
                "## Left Outer Join\n",
                "\n",
                "Returns rows from the left table that do not have matching rows from the right table. List all owners with their animals if they have one.\n",
                "\n",
                "<img src=\"assets/right-join.png\" alt=\"right join\" width=\"200\"/>"
            ]
        },
        {
            "cell_type": "code",
            "execution_count": null,
            "metadata": {
                "azdata_cell_guid": "d22133f1-f833-4677-9798-f36778559815"
            },
            "outputs": [],
            "source": [
                "SELECT animal_id, animal_name, animal_type, owners.owner_id, first_name FROM animals RIGHT JOIN owners ON animals.owner_id = owners.owner_id"
            ]
        },
        {
            "attachments": {},
            "cell_type": "markdown",
            "metadata": {
                "azdata_cell_guid": "59bb518b-7dff-4023-9ea6-787d2ecd53db"
            },
            "source": [
                "## Full Outer Join\n",
                "Returns all rows from both tables, with the matching rows from both sides if available. List all animals with their owners and all prospective owners also.\n",
                "\n",
                "<img src=\"assets/full-outer-join.png\" alt=\"full outer join\" width=\"200\"/>"
            ]
        },
        {
            "cell_type": "code",
            "execution_count": null,
            "metadata": {
                "azdata_cell_guid": "854cf0a9-a2f5-43ad-989e-02efd3ae297d"
            },
            "outputs": [],
            "source": [
                "SELECT animal_id, animal_name, animal_type, owners.owner_id, first_name FROM animals FULL OUTER JOIN owners ON animals.owner_id = owners.owner_id"
            ]
        }
    ],
    "metadata": {
        "extensions": {
            "azuredatastudio": {
                "version": 1,
                "views": []
            }
        },
        "kernelspec": {
            "display_name": "SQL",
            "language": "sql",
            "name": "SQL"
        },
        "language_info": {
            "name": "sql",
            "version": ""
        }
    },
    "nbformat": 4,
    "nbformat_minor": 2
}
