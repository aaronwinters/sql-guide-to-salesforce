{
    "metadata": {
        "kernelspec": {
            "name": "SQL",
            "display_name": "SQL",
            "language": "sql"
        },
        "language_info": {
            "name": "sql",
            "version": ""
        },
        "extensions": {
            "azuredatastudio": {
                "version": 1,
                "views": []
            }
        }
    },
    "nbformat_minor": 2,
    "nbformat": 4,
    "cells": [
        {
            "cell_type": "markdown",
            "source": [
                "# Introduction\n",
                "Series of sample SQL scripts demonstrating common tasks with PostgreSQL database."
            ],
            "metadata": {
                "azdata_cell_guid": "d3dfef4e-ec77-4d85-a7ad-6a78620ef225"
            },
            "attachments": {}
        },
        {
            "cell_type": "markdown",
            "source": [
                "# Demo: Local Environment Setup\n",
                "\n",
                "1. [Install PostgreSQL](https://www.postgresql.org/download/)\n",
                "2. Start PostgreSQL server locally\n",
                "3. Create a new database (replace \"username\" with the username you used when installing PostgreSQL): `createdb -h localhost -p 5432 -U username animal_adoption`\n",
                "4. Connect to the database server: `psql -U username`\n",
                "5. Display a list of databases to verify that your database was created: `\\l`\n",
                "6. Connect to the database using your preferred IDE"
            ],
            "metadata": {
                "azdata_cell_guid": "84b7b372-24f3-4718-9dba-fa0e52ae5fc0"
            },
            "attachments": {}
        },
        {
            "cell_type": "markdown",
            "source": [
                "# Demo: Create & Update Schema"
            ],
            "metadata": {
                "azdata_cell_guid": "1aca12e5-9975-4f2f-8cf7-c11d6f33b4d5"
            }
        },
        {
            "cell_type": "code",
            "source": [
                "DROP TABLE IF EXISTS organizations CASCADE;\n",
                "\n",
                "CREATE TABLE organizations (\n",
                "    org_id bigserial,\n",
                "    name varchar(100),\n",
                "    CONSTRAINT org_id PRIMARY KEY (org_id)\n",
                ");\n",
                "\n",
                "\n",
                "DROP TABLE IF EXISTS owners CASCADE;\n",
                "\n",
                "CREATE TABLE owners (\n",
                "    owner_id bigserial,\n",
                "    first_name varchar(100),\n",
                "    last_name varchar(100),\n",
                "    email varchar(100),\n",
                "    phone varchar(15),\n",
                "    mailing_street varchar(100),\n",
                "    mailing_city varchar(100),\n",
                "    mailing_state varchar(30),\n",
                "    mailing_postal_code varchar(5),\n",
                "    CONSTRAINT owner_id PRIMARY KEY (owner_id)\n",
                ");"
            ],
            "metadata": {
                "azdata_cell_guid": "915391ae-e81f-4dc3-9263-3b43a4c4b6e0"
            },
            "outputs": [],
            "execution_count": null
        },
        {
            "cell_type": "code",
            "source": [
                "DROP TABLE IF EXISTS animals CASCADE;\n",
                "\n",
                "CREATE TABLE animals (\n",
                "    animal_id bigserial,\n",
                "    animal_name varchar(100),\n",
                "    animal_type varchar(100),\n",
                "    gender varchar(10),\n",
                "    birthdate date,\n",
                "    shelter integer REFERENCES organizations (org_id),\n",
                "    owner_id integer REFERENCES owners (owner_id),\n",
                "    CONSTRAINT animal_key PRIMARY KEY (animal_id)\n",
                ");\n",
                "\n",
                "\n",
                "DROP TABLE IF EXISTS animal_notes;\n",
                "\n",
                "CREATE TABLE animal_notes (\n",
                "    animal_note_id bigserial,\n",
                "    animal_note_summary varchar(100),\n",
                "    animal_note_detail text,\n",
                "    animal_note_date date,\n",
                "    animal integer REFERENCES animals (animal_id),\n",
                "    CONSTRAINT animal_note_key PRIMARY KEY (animal_note_id)\n",
                ");"
            ],
            "metadata": {
                "azdata_cell_guid": "82f92d99-8db0-49f0-a85c-a3d1e1679156",
                "tags": []
            },
            "outputs": [],
            "execution_count": null
        },
        {
            "cell_type": "markdown",
            "source": [
                "# Demo: Database Operations"
            ],
            "metadata": {
                "azdata_cell_guid": "90d6a66c-6b0e-4280-a515-47d0a8a10139"
            }
        },
        {
            "cell_type": "code",
            "source": [
                "--INSERT INTO"
            ],
            "metadata": {
                "azdata_cell_guid": "51303558-2d1b-4f1d-b0f6-2ebcef6f9da0"
            },
            "outputs": [],
            "execution_count": null
        },
        {
            "cell_type": "code",
            "source": [
                "--Select * FROM public.animals"
            ],
            "metadata": {
                "azdata_cell_guid": "9f4ff61c-39f6-43d5-a085-d97edb9ebb01"
            },
            "outputs": [],
            "execution_count": null
        },
        {
            "cell_type": "markdown",
            "source": [
                "# Demo: Queries\n",
                "Types of Joins\n",
                "## Inner Join\n",
                "Returns a row for each value that exists in both tables."
            ],
            "metadata": {
                "azdata_cell_guid": "376f6f5f-fca6-4a41-a00c-b82d3ba90a0b"
            },
            "attachments": {}
        },
        {
            "cell_type": "code",
            "source": [
                "SELECT animal_id, animal_name, owners.owner_id, first_name FROM animals INNER JOIN owners ON animals.owner_id = owners.owner_id;"
            ],
            "metadata": {
                "azdata_cell_guid": "15653d07-56a7-4e08-bd96-e98df7244215"
            },
            "outputs": [
                {
                    "output_type": "display_data",
                    "data": {
                        "text/html": "(0 row(s) affected)"
                    },
                    "metadata": {}
                },
                {
                    "output_type": "display_data",
                    "data": {
                        "text/html": "Total execution time: 00:00:00.006"
                    },
                    "metadata": {}
                },
                {
                    "output_type": "execute_result",
                    "metadata": {},
                    "execution_count": 10,
                    "data": {
                        "application/vnd.dataresource+json": {
                            "schema": {
                                "fields": [
                                    {
                                        "name": "animal_id"
                                    },
                                    {
                                        "name": "animal_name"
                                    },
                                    {
                                        "name": "owner_id"
                                    },
                                    {
                                        "name": "first_name"
                                    }
                                ]
                            },
                            "data": []
                        },
                        "text/html": [
                            "<table>",
                            "<tr><th>animal_id</th><th>animal_name</th><th>owner_id</th><th>first_name</th></tr>",
                            "</table>"
                        ]
                    }
                }
            ],
            "execution_count": 10
        },
        {
            "cell_type": "markdown",
            "source": [
                "## Left Join\n",
                "\n",
                "Returns all matching rows in left table along with columns from joined table if available."
            ],
            "metadata": {
                "azdata_cell_guid": "349880f5-6bd2-4b2a-b875-e2c5980a7d0a"
            },
            "attachments": {}
        },
        {
            "cell_type": "markdown",
            "source": [
                "## Left Outer Join\n",
                "Returns rows from the left table that do not have matching rows from the right table"
            ],
            "metadata": {
                "azdata_cell_guid": "cd01e85d-2580-4ae5-ac3f-46e4f2b42def"
            },
            "attachments": {}
        },
        {
            "cell_type": "markdown",
            "source": [
                "## Full Outer Join\n",
                "Returns all rows from both tables, with the matching rows from both sides if available"
            ],
            "metadata": {
                "azdata_cell_guid": "59bb518b-7dff-4023-9ea6-787d2ecd53db"
            },
            "attachments": {}
        }
    ]
}