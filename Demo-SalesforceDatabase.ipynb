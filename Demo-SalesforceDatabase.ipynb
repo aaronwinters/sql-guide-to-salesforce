{
 "cells": [
  {
   "cell_type": "markdown",
   "metadata": {},
   "source": [
    "# Introduction\n",
    "Series of sample Salesforce CLI commands demonstrating common tasks with Salesforce database service."
   ]
  },
  {
   "cell_type": "markdown",
   "metadata": {},
   "source": [
    "# Demo: Local Environment Setup\n",
    "\n",
    "## Create Accounts and Install Tools\n",
    "1. Sign up for free [Developer Edition](https://developer.salesforce.com/signup) account\n",
    "1. Install the [Salesforce CLI](https://developer.salesforce.com/tools/sfdxcli)\n",
    "1. (Optionally) [Install VS Code](https://code.visualstudio.com/download), and the [Salesforce extension pack](https://marketplace.visualstudio.com/items?itemName=salesforce.salesforcedx-vscode)\n",
    "\n",
    "## Connect Salesforce CLI to your DevHub\n",
    "The Salesforce instance used for the DevHub will determine some of the features and capabilities that the Salesforce CLI has access to and this step is required in order to run many of the commands.\n",
    "\n",
    "Use your developer edition credentials when prompted by the command below.\n",
    "```\n",
    "sfdx auth:web:login -d -a DevHub\n",
    "```\n",
    "Enable DevHub in your Developer Edition org"
   ]
  },
  {
   "cell_type": "code",
   "execution_count": null,
   "metadata": {},
   "outputs": [],
   "source": [
    "! sfdx force:org:open -u DevHub"
   ]
  },
  {
   "cell_type": "markdown",
   "metadata": {},
   "source": [
    "## Create a Scratch Org\n",
    "A scratch org is a temporary Salesforce instance available for up to 30 days, intended to be used with source-driven development.\n",
    "\n",
    "A local project with configuration files and source code is required in order to create a scratch org. In this example we will clone an existing project from GitHub.\n",
    "```\n",
    "git clone https://github.com/aaronwinters/sql-guide-to-salesforce.git\n",
    "```\n",
    "Next create the scratch org. These are the options included in the command below\n",
    "* `-s` option indicates that this scratch org should be the default org for this project when running Salesforce CLI commands.\n",
    "* `-f` is the path to the configuration file that specifies which features we want available in the scratch org.\n",
    "* `-a` creates an alias for the org that we can use to easily reference this org from the CLI."
   ]
  },
  {
   "cell_type": "code",
   "execution_count": null,
   "metadata": {},
   "outputs": [],
   "source": [
    "! sfdx force:org:create -s -f config/project-scratch-def.json -a AnimalAdoptionScratch"
   ]
  },
  {
   "cell_type": "markdown",
   "metadata": {},
   "source": [
    "# Demo: Create & Update Schema\n",
    "Typically the data model is created via a web application within the Salesforce scratch org. The two most common tools are Object Manager and Schema Builder.\n",
    "\n",
    "Open the scratch org using the following command:"
   ]
  },
  {
   "cell_type": "code",
   "execution_count": null,
   "metadata": {},
   "outputs": [],
   "source": [
    "! sfdx force:org:open -u AnimalAdoptionScratch"
   ]
  },
  {
   "cell_type": "markdown",
   "metadata": {},
   "source": [
    "By default, users don't have access to the objects and fields. One commonly used tool to manage access is called Permission Sets. Once you are happy with the schema and the user access settings, pull the changes to the local project with the following command:\n",
    "```\n",
    "sfdx force:source:pull\n",
    "```\n",
    "\n",
    "In this example, the project we cloned from GitHub already has the schema and permission files, so we will push that to the sratch org."
   ]
  },
  {
   "cell_type": "code",
   "execution_count": null,
   "metadata": {},
   "outputs": [],
   "source": [
    "! sfdx force:source:push"
   ]
  },
  {
   "cell_type": "markdown",
   "metadata": {},
   "source": [
    "Assign the permission set to your scratch org user."
   ]
  },
  {
   "cell_type": "code",
   "execution_count": null,
   "metadata": {},
   "outputs": [],
   "source": [
    "! sfdx force:user:permset:assign --permsetname Animal_Adoption --targetusername <username/alias>"
   ]
  },
  {
   "cell_type": "markdown",
   "metadata": {},
   "source": [
    "# Demo: Database Operations\n",
    "After creating a new object, Salesforce automatically creates\n",
    "* a UI for the object, \n",
    "* an Apex class for the object, and \n",
    "* an API for the object\n",
    "\n",
    "There are many tools for managing data in Salesforce via the API. The flow is similar for all of them:\n",
    "1. Download and install the tool to your local machine\n",
    "1. Authenticate to the Salesforce instance from the tool\n",
    "1. Perform database operations\n",
    "\n",
    "## Download and Install a Data Management Tool\n",
    "[Dataloader](https://developer.salesforce.com/docs/atlas.en-us.dataLoader.meta/dataLoader/loader_install_general.htm) is developed and maintained by Salesforce and is one of the most popular free options.\n",
    "\n",
    "In this demo we are using open source tools called [Snowfakery & CumulusCI](https://cumulusci.readthedocs.io/en/stable/get_started.html#install-cumulusci) to generate fake data and load the data into the scratch org.\n",
    "\n",
    "## Authenticate the Tool to the Scratch Org\n",
    "CumulusCI comes with Snowfakery and is designed to work with the Salesforce CLI. Run the following command to grant CumulusCI to the scratch org."
   ]
  },
  {
   "cell_type": "code",
   "execution_count": null,
   "metadata": {},
   "outputs": [],
   "source": [
    "! cci org import AnimalAdoptionScratch sql-guide-to-salesforce__dev"
   ]
  },
  {
   "cell_type": "markdown",
   "metadata": {},
   "source": [
    "## Perform Database Operations\n",
    "In this scenario we need to generate some data for each of our objects and insert all of the data into Saleforce.\n",
    "\n",
    "The instructions for how to generate the data are documented in datasets/salesforce-sample-data.yml\n",
    "\n",
    "Run the following command to create fake data and insert the data into the scratch org."
   ]
  },
  {
   "cell_type": "code",
   "execution_count": null,
   "metadata": {},
   "outputs": [],
   "source": [
    "! cci task run generate_and_load_from_yaml -o generator_yaml datasets/salesforce-sample-data.yml --org sql-guide-to-salesforce__dev"
   ]
  },
  {
   "cell_type": "markdown",
   "metadata": {},
   "source": [
    "Check that the data loaded as expected."
   ]
  },
  {
   "cell_type": "code",
   "execution_count": null,
   "metadata": {},
   "outputs": [],
   "source": [
    "! sfdx force:data:soql:query -q \"SELECT Fields(All) FROM Animal__c LIMIT 10\""
   ]
  },
  {
   "cell_type": "code",
   "execution_count": null,
   "metadata": {},
   "outputs": [],
   "source": [
    "! sfdx force:data:soql:query -q \"SELECT FirstName, LastName, Email, Phone, MailingCity, MailingState FROM Contact\""
   ]
  },
  {
   "cell_type": "markdown",
   "metadata": {},
   "source": [
    "# Demo: Queries\n",
    "Types of joins\n",
    "## Inner Join\n",
    "Returns a row for each value that exists in both tables. Which animals have been matched with an owner?"
   ]
  },
  {
   "cell_type": "code",
   "execution_count": null,
   "metadata": {},
   "outputs": [],
   "source": [
    "! sfdx force:data:soql:query -q \"SELECT Animal_Owner__c, Animal_Type__c, Id, Name, Shelter__r.Name, Animal_Owner__r.FirstName FROM Animal__c WHERE Animal_Owner__c IN (SELECT Id FROM Contact)\""
   ]
  },
  {
   "cell_type": "markdown",
   "metadata": {},
   "source": [
    "## Left Join\n",
    "Returns all records from left table with matching values from right table. List all animals with their owner if they have one."
   ]
  },
  {
   "cell_type": "code",
   "execution_count": null,
   "metadata": {},
   "outputs": [],
   "source": [
    "! sfdx force:data:soql:query -q \"SELECT Animal_Type__c, Id, Name, Shelter__r.Name, Animal_Owner__r.FirstName, Animal_Owner__r.Email FROM Animal__c\""
   ]
  },
  {
   "cell_type": "markdown",
   "metadata": {},
   "source": [
    "## Right Join\n",
    "Returns all records from the right table with matching values from the left table. List all owners with their animals if they have one."
   ]
  },
  {
   "cell_type": "code",
   "execution_count": null,
   "metadata": {},
   "outputs": [],
   "source": [
    "! sfdx force:data:soql:query -q \"SELECT FirstName, LastName, Phone, Email, MailingState, (SELECT Animal_Type__c, Id, Name FROM Animals__r) FROM Contact\""
   ]
  },
  {
   "cell_type": "markdown",
   "metadata": {},
   "source": [
    "## Other Joins\n",
    "More complicated joins, such as full outer joins or joins on non-relationship fields, can be done in Apex by creating a custom class to model the data structure and using mulitple queries to set values in an instance of the class."
   ]
  }
 ],
 "metadata": {
  "interpreter": {
   "hash": "aee8b7b246df8f9039afb4144a1f6fd8d2ca17a180786b69acc140d282b71a49"
  },
  "kernelspec": {
   "display_name": "Python 3.9.7 64-bit",
   "language": "python",
   "name": "python3"
  },
  "language_info": {
   "codemirror_mode": {
    "name": "ipython",
    "version": 3
   },
   "file_extension": ".py",
   "mimetype": "text/x-python",
   "name": "python",
   "nbconvert_exporter": "python",
   "pygments_lexer": "ipython3",
   "version": "3.9.7"
  },
  "orig_nbformat": 4
 },
 "nbformat": 4,
 "nbformat_minor": 2
}
