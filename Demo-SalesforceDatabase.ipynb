{
 "cells": [
  {
   "cell_type": "markdown",
   "metadata": {},
   "source": [
    "# Introduction\n",
    "Series of sample Salesforce CLI commands demonstrating common tasks with Salesforce database service."
   ]
  },
  {
   "cell_type": "markdown",
   "metadata": {},
   "source": [
    "# Demo: Local Environment Setup\n",
    "\n",
    "## Create Accounts and Install Tools\n",
    "1. Sign up for free [Developer Edition](https://developer.salesforce.com/signup) account\n",
    "1. Enable DevHub in Developer Edition org\n",
    "1. Install the [Salesforce CLI](https://developer.salesforce.com/tools/sfdxcli)\n",
    "1. (Optionally) [Install VS Code](https://code.visualstudio.com/download), the [Salesforce extension pack](https://marketplace.visualstudio.com/items?itemName=salesforce.salesforcedx-vscode)\n",
    "\n",
    "## Connect Salesforce CLI to your DevHub\n",
    "The Salesforce instance used for the DevHub will determine some of the features and capabilities that the Salesforce CLI has access to and this step is required in order to run many of the commands.\n",
    "\n",
    "Use your developer edition credentials when prompted by the command below."
   ]
  },
  {
   "cell_type": "code",
   "execution_count": null,
   "metadata": {},
   "outputs": [],
   "source": [
    "! sfdx auth:web:login -d -a DevHub"
   ]
  },
  {
   "cell_type": "markdown",
   "metadata": {},
   "source": [
    "## Create a Scratch Org\n",
    "A scratch org is a temporary Salesforce instance available for up to 30 days, intended to be used with source-driven development.\n",
    "\n",
    "A local project with configuration files and source code is required in order to create a scratch org. In this example we will clone an existing project from GitHub."
   ]
  },
  {
   "cell_type": "code",
   "execution_count": null,
   "metadata": {},
   "outputs": [],
   "source": [
    "! git clone https://github.com/aaronwinters/sql-guide-to-salesforce.git"
   ]
  },
  {
   "cell_type": "markdown",
   "metadata": {},
   "source": [
    "Next create the scratch org. These are the option included in the command below\n",
    "* `-s` option indicates that this scratch org should be the default org for this project when running Salesforce CLI commands.\n",
    "* `-f` is the path to the configuration file that specifies which features we want available in the scratch org.\n",
    "* `-a` creates an alias for the org that we can use to easily reference this org from the CLI."
   ]
  },
  {
   "cell_type": "code",
   "execution_count": null,
   "metadata": {},
   "outputs": [],
   "source": [
    "! sfdx force:org:create -s -f config/project-scratch-def.json -a AnimalAdoptionScratch"
   ]
  },
  {
   "cell_type": "markdown",
   "metadata": {},
   "source": [
    "# Demo: Create & Update Schema\n",
    "Typically the data model is created via a web application within the Salesforce scratch org. The two most common tools are Object Manager and Schema Builder.\n",
    "\n",
    "By default, users don't have access to the objects and fields. One commonly used tool to manage access is called Permission Sets.\n",
    "\n",
    "Once you are happy with the schema and the user access settings, pull the changes to the local project with the following command:\n",
    "```\n",
    "sfdx force:source:pull\n",
    "```\n",
    "\n",
    "In this example, the project we cloned from GitHub already has the schema and permission files, so we will push that to the sratch org."
   ]
  },
  {
   "cell_type": "code",
   "execution_count": null,
   "metadata": {},
   "outputs": [],
   "source": [
    "! sfdx force:source:push"
   ]
  },
  {
   "cell_type": "markdown",
   "metadata": {},
   "source": [
    "Assign the permission set to your scratch org user."
   ]
  },
  {
   "cell_type": "code",
   "execution_count": null,
   "metadata": {},
   "outputs": [],
   "source": [
    "! sfdx force:user:permset:assign --permsetname animal_adoption --targetusername <username/alias>"
   ]
  },
  {
   "cell_type": "markdown",
   "metadata": {},
   "source": [
    "# Demo: Database Operations"
   ]
  }
 ],
 "metadata": {
  "interpreter": {
   "hash": "aee8b7b246df8f9039afb4144a1f6fd8d2ca17a180786b69acc140d282b71a49"
  },
  "kernelspec": {
   "display_name": "Python 3.9.7 64-bit",
   "language": "python",
   "name": "python3"
  },
  "language_info": {
   "codemirror_mode": {
    "name": "ipython",
    "version": 3
   },
   "file_extension": ".py",
   "mimetype": "text/x-python",
   "name": "python",
   "nbconvert_exporter": "python",
   "pygments_lexer": "ipython3",
   "version": "3.9.7"
  },
  "orig_nbformat": 4
 },
 "nbformat": 4,
 "nbformat_minor": 2
}
